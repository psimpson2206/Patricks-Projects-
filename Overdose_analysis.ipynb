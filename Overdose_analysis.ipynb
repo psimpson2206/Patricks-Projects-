{
 "cells": [
  {
   "cell_type": "markdown",
   "id": "9ec4d25a-f4cb-40df-9643-2501de7ca8c4",
   "metadata": {},
   "source": [
    "# Accidental Overdose"
   ]
  },
  {
   "cell_type": "markdown",
   "id": "bec820cf-6123-4943-b5d1-5d529eb1cbc7",
   "metadata": {},
   "source": [
    "## Import libraries "
   ]
  },
  {
   "cell_type": "code",
   "execution_count": 24,
   "id": "2078c10f-2280-450c-a199-8a96225a7645",
   "metadata": {},
   "outputs": [],
   "source": [
    "import pandas as pd"
   ]
  },
  {
   "cell_type": "markdown",
   "id": "ac19de0b-fec3-4642-8277-4b1b7f86cb43",
   "metadata": {},
   "source": [
    "## Load data"
   ]
  },
  {
   "cell_type": "code",
   "execution_count": 15,
   "id": "f8db670f-382e-49a5-9db8-599194aaa82c",
   "metadata": {},
   "outputs": [
    {
     "data": {
      "text/html": [
       "<div>\n",
       "<style scoped>\n",
       "    .dataframe tbody tr th:only-of-type {\n",
       "        vertical-align: middle;\n",
       "    }\n",
       "\n",
       "    .dataframe tbody tr th {\n",
       "        vertical-align: top;\n",
       "    }\n",
       "\n",
       "    .dataframe thead th {\n",
       "        text-align: right;\n",
       "    }\n",
       "</style>\n",
       "<table border=\"1\" class=\"dataframe\">\n",
       "  <thead>\n",
       "    <tr style=\"text-align: right;\">\n",
       "      <th></th>\n",
       "      <th>_id</th>\n",
       "      <th>death_date_and_time</th>\n",
       "      <th>manner_of_death</th>\n",
       "      <th>age</th>\n",
       "      <th>sex</th>\n",
       "      <th>race</th>\n",
       "      <th>case_dispo</th>\n",
       "      <th>combined_od1</th>\n",
       "      <th>combined_od2</th>\n",
       "      <th>combined_od3</th>\n",
       "      <th>combined_od4</th>\n",
       "      <th>combined_od5</th>\n",
       "      <th>combined_od6</th>\n",
       "      <th>combined_od7</th>\n",
       "      <th>combined_od8</th>\n",
       "      <th>combined_od9</th>\n",
       "      <th>combined_od10</th>\n",
       "      <th>incident_zip</th>\n",
       "      <th>decedent_zip</th>\n",
       "      <th>case_year</th>\n",
       "    </tr>\n",
       "  </thead>\n",
       "  <tbody>\n",
       "    <tr>\n",
       "      <th>4212</th>\n",
       "      <td>9372286</td>\n",
       "      <td>2019-05-29T18:25:00</td>\n",
       "      <td>Accident</td>\n",
       "      <td>63</td>\n",
       "      <td>M</td>\n",
       "      <td>W</td>\n",
       "      <td>MO</td>\n",
       "      <td>Buprenorphine</td>\n",
       "      <td>Quetiapine</td>\n",
       "      <td>Clonazepam</td>\n",
       "      <td>NaN</td>\n",
       "      <td>NaN</td>\n",
       "      <td>NaN</td>\n",
       "      <td>NaN</td>\n",
       "      <td>NaN</td>\n",
       "      <td>NaN</td>\n",
       "      <td>NaN</td>\n",
       "      <td>15025</td>\n",
       "      <td>NaN</td>\n",
       "      <td>2019</td>\n",
       "    </tr>\n",
       "    <tr>\n",
       "      <th>6553</th>\n",
       "      <td>9374627</td>\n",
       "      <td>2022-06-11T18:12:00</td>\n",
       "      <td>Accident</td>\n",
       "      <td>46</td>\n",
       "      <td>M</td>\n",
       "      <td>W</td>\n",
       "      <td>MO</td>\n",
       "      <td>Fentanyl</td>\n",
       "      <td>Buprenorphine</td>\n",
       "      <td>NaN</td>\n",
       "      <td>NaN</td>\n",
       "      <td>NaN</td>\n",
       "      <td>NaN</td>\n",
       "      <td>NaN</td>\n",
       "      <td>NaN</td>\n",
       "      <td>NaN</td>\n",
       "      <td>NaN</td>\n",
       "      <td>15140</td>\n",
       "      <td>NaN</td>\n",
       "      <td>2022</td>\n",
       "    </tr>\n",
       "    <tr>\n",
       "      <th>5267</th>\n",
       "      <td>9373341</td>\n",
       "      <td>2020-07-20T02:26:00</td>\n",
       "      <td>Accident</td>\n",
       "      <td>30</td>\n",
       "      <td>F</td>\n",
       "      <td>W</td>\n",
       "      <td>MO</td>\n",
       "      <td>Acetyl Fentanyl</td>\n",
       "      <td>Fentanyl</td>\n",
       "      <td>Heroin</td>\n",
       "      <td>Tramadol</td>\n",
       "      <td>Alprazolam</td>\n",
       "      <td>Trazodone</td>\n",
       "      <td>NaN</td>\n",
       "      <td>NaN</td>\n",
       "      <td>NaN</td>\n",
       "      <td>NaN</td>\n",
       "      <td>15210</td>\n",
       "      <td>NaN</td>\n",
       "      <td>2020</td>\n",
       "    </tr>\n",
       "    <tr>\n",
       "      <th>6845</th>\n",
       "      <td>9374919</td>\n",
       "      <td>2022-04-18T11:44:00</td>\n",
       "      <td>Accident</td>\n",
       "      <td>44</td>\n",
       "      <td>M</td>\n",
       "      <td>W</td>\n",
       "      <td>MO</td>\n",
       "      <td>Alcohol</td>\n",
       "      <td>NaN</td>\n",
       "      <td>NaN</td>\n",
       "      <td>NaN</td>\n",
       "      <td>NaN</td>\n",
       "      <td>NaN</td>\n",
       "      <td>NaN</td>\n",
       "      <td>NaN</td>\n",
       "      <td>NaN</td>\n",
       "      <td>NaN</td>\n",
       "      <td>15129</td>\n",
       "      <td>NaN</td>\n",
       "      <td>2022</td>\n",
       "    </tr>\n",
       "    <tr>\n",
       "      <th>812</th>\n",
       "      <td>9368886</td>\n",
       "      <td>2013-06-21T16:43:00</td>\n",
       "      <td>Accident</td>\n",
       "      <td>26</td>\n",
       "      <td>M</td>\n",
       "      <td>W</td>\n",
       "      <td>MO</td>\n",
       "      <td>Alcohol</td>\n",
       "      <td>Heroin</td>\n",
       "      <td>NaN</td>\n",
       "      <td>NaN</td>\n",
       "      <td>NaN</td>\n",
       "      <td>NaN</td>\n",
       "      <td>NaN</td>\n",
       "      <td>NaN</td>\n",
       "      <td>NaN</td>\n",
       "      <td>NaN</td>\n",
       "      <td>15102</td>\n",
       "      <td>NaN</td>\n",
       "      <td>2013</td>\n",
       "    </tr>\n",
       "  </tbody>\n",
       "</table>\n",
       "</div>"
      ],
      "text/plain": [
       "          _id  death_date_and_time manner_of_death  age sex race case_dispo  \\\n",
       "4212  9372286  2019-05-29T18:25:00        Accident   63   M    W         MO   \n",
       "6553  9374627  2022-06-11T18:12:00        Accident   46   M    W         MO   \n",
       "5267  9373341  2020-07-20T02:26:00        Accident   30   F    W         MO   \n",
       "6845  9374919  2022-04-18T11:44:00        Accident   44   M    W         MO   \n",
       "812   9368886  2013-06-21T16:43:00        Accident   26   M    W         MO   \n",
       "\n",
       "         combined_od1   combined_od2 combined_od3 combined_od4 combined_od5  \\\n",
       "4212    Buprenorphine     Quetiapine   Clonazepam          NaN          NaN   \n",
       "6553         Fentanyl  Buprenorphine          NaN          NaN          NaN   \n",
       "5267  Acetyl Fentanyl       Fentanyl       Heroin     Tramadol   Alprazolam   \n",
       "6845          Alcohol            NaN          NaN          NaN          NaN   \n",
       "812           Alcohol         Heroin          NaN          NaN          NaN   \n",
       "\n",
       "     combined_od6 combined_od7 combined_od8 combined_od9 combined_od10  \\\n",
       "4212          NaN          NaN          NaN          NaN           NaN   \n",
       "6553          NaN          NaN          NaN          NaN           NaN   \n",
       "5267    Trazodone          NaN          NaN          NaN           NaN   \n",
       "6845          NaN          NaN          NaN          NaN           NaN   \n",
       "812           NaN          NaN          NaN          NaN           NaN   \n",
       "\n",
       "     incident_zip  decedent_zip  case_year  \n",
       "4212        15025           NaN       2019  \n",
       "6553        15140           NaN       2022  \n",
       "5267        15210           NaN       2020  \n",
       "6845        15129           NaN       2022  \n",
       "812         15102           NaN       2013  "
      ]
     },
     "execution_count": 15,
     "metadata": {},
     "output_type": "execute_result"
    }
   ],
   "source": [
    "Overdose = pd.read_csv(\"Overdose_data.csv\")\n",
    "Overdose.sample(5)"
   ]
  },
  {
   "cell_type": "markdown",
   "id": "1666becb-a444-495a-9833-b350efdf1124",
   "metadata": {
    "scrolled": true
   },
   "source": [
    "## Sort and proccess data"
   ]
  },
  {
   "cell_type": "markdown",
   "id": "43928c6f-fa10-4d09-93ed-6145c13b1824",
   "metadata": {},
   "source": [
    "## Worst 20 neighboorhoods "
   ]
  },
  {
   "cell_type": "code",
   "execution_count": 147,
   "id": "70244530-57bd-435f-bc98-e1b4ee7cb79a",
   "metadata": {},
   "outputs": [
    {
     "data": {
      "text/plain": [
       "incident_zip\n",
       "15210    373\n",
       "15212    295\n",
       "15132    220\n",
       "15136    218\n",
       "15235    193\n",
       "15216    189\n",
       "15221    180\n",
       "15227    171\n",
       "15219    163\n",
       "15206    162\n",
       "15205    151\n",
       "15120    146\n",
       "15202    137\n",
       "15106    130\n",
       "15108    128\n",
       "15211    121\n",
       "15226    118\n",
       "15236    112\n",
       "15025    103\n",
       "15146     99\n",
       "dtype: int64"
      ]
     },
     "execution_count": 147,
     "metadata": {},
     "output_type": "execute_result"
    },
    {
     "data": {
      "image/png": "[encoded data removed]",
      "text/plain": [
       "<Figure size 1200x600 with 1 Axes>"
      ]
     },
     "metadata": {},
     "output_type": "display_data"
    }
   ],
   "source": [
    "# Group the data by 'incident_zip' \n",
    "overdose_sorted = Overdose.groupby('incident_zip').size()\n",
    "\n",
    "# Get the top 20 ZIP codes with the highest number of incidents\n",
    "top_20_zip_codes = overdose_sorted.nlargest(20)\n",
    "\n",
    "# Plot the data as a bar chart\n",
    "top_20_zip_codes.plot(kind='bar', figsize=(12, 6), color='skyblue', edgecolor='black')\n",
    "\n",
    "#Print \n",
    "top_20_zip_codes\n",
    "\n",
    "\n"
   ]
  },
  {
   "cell_type": "markdown",
   "id": "050d588f-2e64-4207-989b-686133711f8b",
   "metadata": {},
   "source": [
    "## Top Best 20 Area Codes "
   ]
  },
  {
   "cell_type": "code",
   "execution_count": 155,
   "id": "933a80d0-5376-4507-bbf5-1d4b4be87f0b",
   "metadata": {},
   "outputs": [
    {
     "name": "stdout",
     "output_type": "stream",
     "text": [
      "incident_zip\n",
      "15668     6\n",
      "15031     6\n",
      "15026     6\n",
      "15656     6\n",
      "15601     7\n",
      "15030     7\n",
      "16066     7\n",
      "15142     7\n",
      "15005     7\n",
      "15613     7\n",
      "16001     7\n",
      "15690     7\n",
      "15074     8\n",
      "15001     8\n",
      "15076     8\n",
      "15085     9\n",
      "15317    10\n",
      "15046    10\n",
      "15135    13\n",
      "15003    14\n",
      "Name: count, dtype: int64\n"
     ]
    },
    {
     "data": {
      "image/png": "[encoded data removed]",
      "text/plain": [
       "<Figure size 640x480 with 1 Axes>"
      ]
     },
     "metadata": {},
     "output_type": "display_data"
    }
   ],
   "source": [
    "# Count the number of incidents per ZIP code\n",
    "overdose_counts = Overdose['incident_zip'].value_counts()\n",
    "\n",
    "# Filter out ZIP codes with more than 5 incident\n",
    "filtered_counts = overdose_counts[overdose_counts > 5]\n",
    "\n",
    "# Get the 20 ZIP codes with the least amount of incidents\n",
    "least_20_zip_codes = filtered_counts.nsmallest(20)\n",
    "\n",
    "#Plot\n",
    "Overdose_plot = least_20_zip_codes.plot(kind = 'bar')\n",
    "\n",
    "# Display the result\n",
    "print(least_20_zip_codes)\n",
    "\n"
   ]
  },
  {
   "cell_type": "markdown",
   "id": "ab2f18f9-5c18-45dd-86ab-a8aee35207ac",
   "metadata": {},
   "source": [
    "- I used the Zip codes with more than 5 accidents because there was a large population with only 1 accident which is too vague to accurately define which area is safer "
   ]
  },
  {
   "cell_type": "markdown",
   "id": "5e23c7c6-655f-4e77-850e-249ca07f4290",
   "metadata": {},
   "source": [
    "# Conclusion"
   ]
  },
  {
   "cell_type": "markdown",
   "id": "4c68c921-e189-44c6-981a-348562921959",
   "metadata": {},
   "source": [
    "- The best zip code to live in would be 15668,15031,15026,15616 with all 6 Accidental overdoses \n",
    "- The worst zip code to live in would be 15210 with 373 Accidental overdoses "
   ]
  }
 ],
 "metadata": {
  "kernelspec": {
   "display_name": "Python 3 (ipykernel)",
   "language": "python",
   "name": "python3"
  },
  "language_info": {
   "codemirror_mode": {
    "name": "ipython",
    "version": 3
   },
   "file_extension": ".py",
   "mimetype": "text/x-python",
   "name": "python",
   "nbconvert_exporter": "python",
   "pygments_lexer": "ipython3",
   "version": "3.12.4"
  }
 },
 "nbformat": 4,
 "nbformat_minor": 5
}
